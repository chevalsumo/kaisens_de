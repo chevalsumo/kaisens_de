{
 "cells": [
  {
   "cell_type": "code",
   "execution_count": 1,
   "metadata": {},
   "outputs": [],
   "source": [
    "import os\n",
    "import sys\n",
    "\n",
    "import os\n",
    "import sys\n",
    "module_path = os.path.abspath(os.path.join('..'))\n",
    "if module_path not in sys.path:\n",
    "    sys.path.append(module_path)\n",
    "\n",
    "%load_ext autoreload\n",
    "%autoreload 2"
   ]
  },
  {
   "cell_type": "code",
   "execution_count": 2,
   "metadata": {},
   "outputs": [],
   "source": [
    "from app.facebook_scrapper import FacebookScrapper"
   ]
  },
  {
   "cell_type": "code",
   "execution_count": 3,
   "metadata": {},
   "outputs": [],
   "source": [
    "scrapper = FacebookScrapper()"
   ]
  },
  {
   "cell_type": "code",
   "execution_count": 130,
   "metadata": {},
   "outputs": [],
   "source": [
    "# Login to a facebook account\n",
    "scrapper.login(email=\"\", password=\"\")"
   ]
  },
  {
   "cell_type": "code",
   "execution_count": 131,
   "metadata": {},
   "outputs": [],
   "source": [
    "# Searching for a subject \n",
    "scrapper.search_subject(\"le déces de jacque chirac\")"
   ]
  },
  {
   "cell_type": "code",
   "execution_count": 132,
   "metadata": {},
   "outputs": [
    {
     "name": "stdout",
     "output_type": "stream",
     "text": [
      "[<selenium.webdriver.remote.webelement.WebElement (session=\"cc807464332b3b2b12936b5588a1d348\", element=\"CD3BED114E3C29518E81F7517AE8959F_element_142\")>, <selenium.webdriver.remote.webelement.WebElement (session=\"cc807464332b3b2b12936b5588a1d348\", element=\"CD3BED114E3C29518E81F7517AE8959F_element_143\")>, <selenium.webdriver.remote.webelement.WebElement (session=\"cc807464332b3b2b12936b5588a1d348\", element=\"CD3BED114E3C29518E81F7517AE8959F_element_144\")>, <selenium.webdriver.remote.webelement.WebElement (session=\"cc807464332b3b2b12936b5588a1d348\", element=\"CD3BED114E3C29518E81F7517AE8959F_element_145\")>, <selenium.webdriver.remote.webelement.WebElement (session=\"cc807464332b3b2b12936b5588a1d348\", element=\"CD3BED114E3C29518E81F7517AE8959F_element_146\")>, <selenium.webdriver.remote.webelement.WebElement (session=\"cc807464332b3b2b12936b5588a1d348\", element=\"CD3BED114E3C29518E81F7517AE8959F_element_147\")>, <selenium.webdriver.remote.webelement.WebElement (session=\"cc807464332b3b2b12936b5588a1d348\", element=\"CD3BED114E3C29518E81F7517AE8959F_element_148\")>, <selenium.webdriver.remote.webelement.WebElement (session=\"cc807464332b3b2b12936b5588a1d348\", element=\"CD3BED114E3C29518E81F7517AE8959F_element_149\")>, <selenium.webdriver.remote.webelement.WebElement (session=\"cc807464332b3b2b12936b5588a1d348\", element=\"CD3BED114E3C29518E81F7517AE8959F_element_150\")>, <selenium.webdriver.remote.webelement.WebElement (session=\"cc807464332b3b2b12936b5588a1d348\", element=\"CD3BED114E3C29518E81F7517AE8959F_element_151\")>, <selenium.webdriver.remote.webelement.WebElement (session=\"cc807464332b3b2b12936b5588a1d348\", element=\"CD3BED114E3C29518E81F7517AE8959F_element_152\")>, <selenium.webdriver.remote.webelement.WebElement (session=\"cc807464332b3b2b12936b5588a1d348\", element=\"CD3BED114E3C29518E81F7517AE8959F_element_153\")>, <selenium.webdriver.remote.webelement.WebElement (session=\"cc807464332b3b2b12936b5588a1d348\", element=\"CD3BED114E3C29518E81F7517AE8959F_element_154\")>, <selenium.webdriver.remote.webelement.WebElement (session=\"cc807464332b3b2b12936b5588a1d348\", element=\"CD3BED114E3C29518E81F7517AE8959F_element_155\")>, <selenium.webdriver.remote.webelement.WebElement (session=\"cc807464332b3b2b12936b5588a1d348\", element=\"CD3BED114E3C29518E81F7517AE8959F_element_156\")>, <selenium.webdriver.remote.webelement.WebElement (session=\"cc807464332b3b2b12936b5588a1d348\", element=\"CD3BED114E3C29518E81F7517AE8959F_element_157\")>, <selenium.webdriver.remote.webelement.WebElement (session=\"cc807464332b3b2b12936b5588a1d348\", element=\"CD3BED114E3C29518E81F7517AE8959F_element_158\")>, <selenium.webdriver.remote.webelement.WebElement (session=\"cc807464332b3b2b12936b5588a1d348\", element=\"CD3BED114E3C29518E81F7517AE8959F_element_159\")>, <selenium.webdriver.remote.webelement.WebElement (session=\"cc807464332b3b2b12936b5588a1d348\", element=\"CD3BED114E3C29518E81F7517AE8959F_element_160\")>, <selenium.webdriver.remote.webelement.WebElement (session=\"cc807464332b3b2b12936b5588a1d348\", element=\"CD3BED114E3C29518E81F7517AE8959F_element_161\")>, <selenium.webdriver.remote.webelement.WebElement (session=\"cc807464332b3b2b12936b5588a1d348\", element=\"CD3BED114E3C29518E81F7517AE8959F_element_162\")>]\n"
     ]
    }
   ],
   "source": [
    "# Get links of the related posts \n",
    "posts_links = scrapper.get_posts_links()"
   ]
  },
  {
   "cell_type": "code",
   "execution_count": 133,
   "metadata": {},
   "outputs": [],
   "source": [
    "# Get our collection (that we gonna use for stocking scrapped informations)\n",
    "scrapper.get_DBCollection(\"mongodb://localhost:27017\")"
   ]
  },
  {
   "cell_type": "code",
   "execution_count": 134,
   "metadata": {},
   "outputs": [
    {
     "name": "stdout",
     "output_type": "stream",
     "text": [
      "Scrapping completed\n",
      "Scrapping completed\n",
      "Scrapping completed\n",
      "Scrapping completed\n",
      "Scrapping completed\n",
      "Scrapping completed\n",
      "Scrapping completed\n",
      "Scrapping completed\n",
      "Scrapping completed\n",
      "Scrapping completed\n",
      "Scrapping completed\n",
      "Scrapping completed\n",
      "Scrapping completed\n",
      "Scrapping completed\n",
      "Scrapping completed\n",
      "Scrapping completed\n"
     ]
    }
   ],
   "source": [
    "# Scrap and save informations to our dataBase \n",
    "scrapper.save_postes_informations(posts_links)"
   ]
  }
 ],
 "metadata": {
  "kernelspec": {
   "display_name": "Python 3",
   "language": "python",
   "name": "python3"
  },
  "language_info": {
   "codemirror_mode": {
    "name": "ipython",
    "version": 3
   },
   "file_extension": ".py",
   "mimetype": "text/x-python",
   "name": "python",
   "nbconvert_exporter": "python",
   "pygments_lexer": "ipython3",
   "version": "3.10.0"
  },
  "orig_nbformat": 4
 },
 "nbformat": 4,
 "nbformat_minor": 2
}
